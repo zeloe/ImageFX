{
 "cells": [
  {
   "cell_type": "code",
   "execution_count": 1,
   "metadata": {},
   "outputs": [],
   "source": [
    "import numpy as np\n",
    "import imageio\n",
    "import cv2 \n",
    "import glob\n",
    "import matplotlib.pyplot as plt"
   ]
  },
  {
   "cell_type": "markdown",
   "metadata": {},
   "source": [
    "## Create Images\n"
   ]
  },
  {
   "cell_type": "code",
   "execution_count": 125,
   "metadata": {},
   "outputs": [],
   "source": [
    "circle_coordinates = np.arange(10,90,15)\n",
    "out_images = []\n",
    "counter  = 0\n",
    "render_list = []\n",
    "for x in circle_coordinates:\n",
    "    image = np.zeros([100,100,3])\n",
    "    image = cv2.circle(\n",
    "\timage, \n",
    "\t(x, 45), \n",
    "\t5, \n",
    "\t(255, 255, 255), \n",
    "\t5 \n",
    "    )\n",
    "    image = image.astype(np.uint8)\n",
    "    plt.imsave(\"Images/\" + str(counter) + \".png\",image)\n",
    "    render_list.append(image)\n",
    "    counter += 1\n"
   ]
  },
  {
   "cell_type": "code",
   "execution_count": 126,
   "metadata": {},
   "outputs": [],
   "source": [
    "imageio.mimsave('Renders/circles.gif', render_list, loop=65535)"
   ]
  },
  {
   "cell_type": "markdown",
   "metadata": {},
   "source": [
    "## Import Images\n"
   ]
  },
  {
   "cell_type": "code",
   "execution_count": 127,
   "metadata": {},
   "outputs": [],
   "source": [
    "images = sorted(glob.glob(\"Images/*.png\"))\n",
    "image_list = []\n",
    "for image in images:\n",
    "    temp = plt.imread(image,\"png\")\n",
    "    image_list.append(temp.astype(float))"
   ]
  },
  {
   "cell_type": "markdown",
   "metadata": {},
   "source": [
    "## Delay Image"
   ]
  },
  {
   "cell_type": "code",
   "execution_count": 123,
   "metadata": {},
   "outputs": [],
   "source": [
    "render_list = []\n",
    "for i in range(2,len(image_list) -2):\n",
    "    previous_image = image_list[i -2]\n",
    "    current_image = image_list[i]\n",
    "    out_image = (current_image + previous_image)\n",
    "    out_image *= 255\n",
    "    out_image = out_image.astype(np.uint8)\n",
    "    render_list.append(out_image)\n",
    "    \n",
    "\n",
    "\n"
   ]
  },
  {
   "cell_type": "code",
   "execution_count": 124,
   "metadata": {},
   "outputs": [],
   "source": [
    "imageio.mimsave('Renders/delay_image.gif', render_list, loop=65535)"
   ]
  },
  {
   "cell_type": "markdown",
   "metadata": {},
   "source": [
    "## Image Comb Filter"
   ]
  },
  {
   "cell_type": "code",
   "execution_count": 130,
   "metadata": {},
   "outputs": [],
   "source": [
    "size = [100,100]\n",
    "\n",
    "images_copy = image_list.copy()\n",
    "\n",
    "sr = 100 * 100\n",
    "sr = sr // 2\n",
    "hz = 100\n",
    "dt_max = int((1 / 10) * sr)\n",
    "feedback = -0.99\n",
    "flat_size = int(images_copy[0].flatten().shape[0]) + dt_max\n",
    "delay_buffer  = np.zeros(flat_size)\n",
    "out_image =  np.zeros(100 * 100 * 4)\n",
    "fb = np.zeros_like(out_image)\n",
    "delayread = 0\n",
    "num_iters  = (7 * 4) * 4\n",
    "render_list = []\n",
    "for iters in range(num_iters):\n",
    "    for images in images_copy:\n",
    "        image_flat = images.flatten()\n",
    "        delay_buffer[dt_max:] = image_flat[:]\n",
    "        dt = int(np.random.uniform(dt_max, sr // 2 - 1))\n",
    "        for i in range(40000):\n",
    "            delay_buffer[(delayread + dt) %flat_size] = image_flat[i]\n",
    "            delayread += 1\n",
    "        out_image[0: 100 * 100 * 4] =  0.33 * (image_flat + delay_buffer[0 :100 * 100 * 4] * 0.99 - fb * -0.99)\n",
    "        fb = out_image * 0.99\n",
    "        display = np.reshape(out_image,[100,100,4])\n",
    "        display *= 255 \n",
    "        render_list.append(display.astype(np.uint8))\n"
   ]
  },
  {
   "cell_type": "code",
   "execution_count": 131,
   "metadata": {},
   "outputs": [],
   "source": [
    "imageio.mimsave('Renders/image_comb_filter.gif', render_list, loop=65535)"
   ]
  }
 ],
 "metadata": {
  "kernelspec": {
   "display_name": "Python 3",
   "language": "python",
   "name": "python3"
  },
  "language_info": {
   "codemirror_mode": {
    "name": "ipython",
    "version": 3
   },
   "file_extension": ".py",
   "mimetype": "text/x-python",
   "name": "python",
   "nbconvert_exporter": "python",
   "pygments_lexer": "ipython3",
   "version": "3.12.2"
  }
 },
 "nbformat": 4,
 "nbformat_minor": 2
}
