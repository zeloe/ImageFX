{
 "cells": [
  {
   "cell_type": "code",
   "execution_count": 1,
   "metadata": {},
   "outputs": [],
   "source": [
    "import numpy as np\n",
    "import imageio\n",
    "import cv2 \n",
    "import glob\n",
    "import matplotlib.pyplot as plt"
   ]
  },
  {
   "cell_type": "markdown",
   "metadata": {},
   "source": [
    "## Create Images"
   ]
  },
  {
   "cell_type": "code",
   "execution_count": 2,
   "metadata": {},
   "outputs": [],
   "source": [
    "circle_coordinates = np.arange(10,90,15)\n",
    "out_images = []\n",
    "counter  = 0\n",
    "render_list = []\n",
    "for x in circle_coordinates:\n",
    "    image = np.zeros([100,100,3])\n",
    "    image = cv2.circle(\n",
    "\timage, \n",
    "\t(x, 45), \n",
    "\t5, \n",
    "\t(255, 255, 255), \n",
    "\t5 \n",
    "    )\n",
    "    image = image.astype(np.uint8)\n",
    "    plt.imsave(\"Images/\" + str(counter) + \".png\",image)\n",
    "    render_list.append(image)\n",
    "    counter += 1\n"
   ]
  },
  {
   "cell_type": "markdown",
   "metadata": {},
   "source": [
    "## Import Images\n"
   ]
  },
  {
   "cell_type": "code",
   "execution_count": 3,
   "metadata": {},
   "outputs": [
    {
     "data": {
      "image/png": "[encoded data removed]",
      "text/plain": [
       "<Figure size 640x480 with 1 Axes>"
      ]
     },
     "metadata": {},
     "output_type": "display_data"
    }
   ],
   "source": [
    "images = sorted(glob.glob(\"Images/*.png\"))\n",
    "image_size = [1000,1000]\n",
    "image_list = []\n",
    "for image in images:\n",
    "    temp = cv2.imread(image,1)\n",
    "    resized = cv2.resize(temp,image_size)\n",
    "    image_list.append(resized.astype(float))\n",
    "current_image = image_list[0].astype(np.uint8)\n",
    "plt.imshow(temp)\n",
    "plt.axis('off')\n",
    "plt.imsave(\"Renders/image.png\",cv2.resize(current_image,[200,200]))"
   ]
  },
  {
   "cell_type": "markdown",
   "metadata": {},
   "source": [
    "## Feedback"
   ]
  },
  {
   "cell_type": "code",
   "execution_count": 13,
   "metadata": {},
   "outputs": [],
   "source": [
    "feedback = -0.99\n",
    "images_copy = image_list.copy()\n",
    "render_list = []\n",
    "current_image = np.zeros_like(images_copy[0])\n",
    "previous_image = np.zeros_like(current_image)\n",
    "for current_image in images_copy:\n",
    "    current_image += previous_image \n",
    "    previous_image = current_image * feedback\n",
    "    render_list.append(cv2.resize(current_image.astype(np.uint8),[200,200]))"
   ]
  },
  {
   "cell_type": "code",
   "execution_count": 14,
   "metadata": {},
   "outputs": [],
   "source": [
    "imageio.mimsave('Renders/feedback.gif', render_list, loop=65535)"
   ]
  },
  {
   "cell_type": "markdown",
   "metadata": {},
   "source": [
    "## Rolling"
   ]
  },
  {
   "cell_type": "code",
   "execution_count": 15,
   "metadata": {},
   "outputs": [],
   "source": [
    "section_offset = 100\n",
    "section_width = 1000\n",
    "sections  = [100,200,300,400,500,600,700,800,900]\n",
    "images_copy = image_list.copy()\n",
    "render_list = []\n",
    "current_image = np.zeros_like(images_copy[0])\n",
    "previous_offset  = 0 \n",
    "temp_section = np.zeros((section_offset,section_width,3))\n",
    "temp2 = np.zeros_like(temp_section)\n",
    "for current_image in images_copy:\n",
    "        for i in sections:\n",
    "                temp_section[0:section_offset,0:section_width,:] = current_image[previous_offset:i,0:section_width,:]\n",
    "                rand = int(np.random.uniform(0,999))\n",
    "                temp2 = np.roll(temp_section,rand)\n",
    "                current_image[previous_offset:i,0:section_width,:] = temp2\n",
    "                previous_offset += section_offset\n",
    "        render_list.append(cv2.resize(current_image.astype(np.uint8),[200,200]))\n",
    "        previous_offset = 0"
   ]
  },
  {
   "cell_type": "code",
   "execution_count": 16,
   "metadata": {},
   "outputs": [],
   "source": [
    "imageio.mimsave('Renders/rolling.gif', render_list, loop=65535)"
   ]
  },
  {
   "cell_type": "markdown",
   "metadata": {},
   "source": [
    "## Rolling Feedback"
   ]
  },
  {
   "cell_type": "code",
   "execution_count": 17,
   "metadata": {},
   "outputs": [
    {
     "name": "stdout",
     "output_type": "stream",
     "text": [
      "0\n",
      "1\n",
      "2\n",
      "3\n"
     ]
    }
   ],
   "source": [
    "section_offset = 100\n",
    "section_width = 1000\n",
    "sections  = [100,200,300,400,500,600,700,800,900]\n",
    "temp_section = np.zeros((section_offset,section_width,3))\n",
    "temp2 = np.zeros_like(temp_section)\n",
    "previous_image = np.zeros_like(image_list[0])\n",
    "render_list = []\n",
    "previous_offset = 0\n",
    "num_iters  = 4\n",
    "feedback = -0.99\n",
    "images_copy = image_list.copy()\n",
    "current_image = np.zeros_like(image_list[0])\n",
    "for iters in range(num_iters):\n",
    "        for current_image in images_copy:\n",
    "                for i in sections:\n",
    "                        temp_section[0:section_offset,0:section_width,:] = current_image[previous_offset:i,0:section_width,:]\n",
    "                        rand = int(np.random.uniform(0,999))\n",
    "                        temp2 = np.roll(temp_section,rand)\n",
    "                        current_image[previous_offset:i,0:section_width,:] = temp2\n",
    "                        previous_offset += section_offset\n",
    "                current_image += previous_image\n",
    "                previous_image = current_image * feedback\n",
    "                render_list.append(cv2.resize(current_image.astype(np.uint8),[200,200]))\n",
    "                previous_offset = 0\n",
    "        print(iters)\n"
   ]
  },
  {
   "cell_type": "code",
   "execution_count": 18,
   "metadata": {},
   "outputs": [],
   "source": [
    "imageio.mimsave('Renders/rolling_feedback.gif', render_list,loop=65535)"
   ]
  },
  {
   "cell_type": "markdown",
   "metadata": {},
   "source": [
    "## Rolling Feedback v2"
   ]
  },
  {
   "cell_type": "code",
   "execution_count": 19,
   "metadata": {},
   "outputs": [
    {
     "name": "stdout",
     "output_type": "stream",
     "text": [
      "0\n",
      "1\n",
      "2\n",
      "3\n"
     ]
    }
   ],
   "source": [
    "section_offset = 100\n",
    "section_width = 1000\n",
    "sections  = [100,200,300,400,500,600,700,800,900]\n",
    "temp_section = np.zeros((section_offset,section_width,3))\n",
    "temp2 = np.zeros_like(temp_section)\n",
    "previous_image = np.zeros_like(image_list[0])\n",
    "render_list = []\n",
    "previous_offset = 0\n",
    "num_iters  = 4\n",
    "images_copy = image_list.copy()\n",
    "feedback = 0.99\n",
    "current_image = np.zeros_like(image_list[0])\n",
    "for iters in range(num_iters):\n",
    "        for current_image in images_copy:\n",
    "                for i in sections:\n",
    "                        temp_section[0:section_offset,0:section_width,:] = current_image[previous_offset:i,0:section_width,:]\n",
    "                        rand = int(np.random.uniform(0,999))\n",
    "                        temp2 = np.roll(temp_section,rand)\n",
    "                        current_image[previous_offset:i,0:section_width,:] = temp2\n",
    "                        previous_offset += section_offset\n",
    "                current_image += previous_image\n",
    "                previous_image = current_image * feedback\n",
    "                render_list.append(cv2.resize(current_image.astype(np.uint8),[200,200]))\n",
    "                previous_offset = 0\n",
    "        print(iters)\n"
   ]
  },
  {
   "cell_type": "code",
   "execution_count": 20,
   "metadata": {},
   "outputs": [],
   "source": [
    "imageio.mimsave('Renders/rolling_feedback_v2.gif', render_list, loop=65535)"
   ]
  }
 ],
 "metadata": {
  "kernelspec": {
   "display_name": "Python 3",
   "language": "python",
   "name": "python3"
  },
  "language_info": {
   "codemirror_mode": {
    "name": "ipython",
    "version": 3
   },
   "file_extension": ".py",
   "mimetype": "text/x-python",
   "name": "python",
   "nbconvert_exporter": "python",
   "pygments_lexer": "ipython3",
   "version": "3.12.2"
  }
 },
 "nbformat": 4,
 "nbformat_minor": 2
}
